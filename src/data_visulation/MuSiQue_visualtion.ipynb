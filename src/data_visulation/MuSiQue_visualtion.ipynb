{
 "cells": [
  {
   "cell_type": "code",
   "execution_count": 2,
   "metadata": {},
   "outputs": [],
   "source": [
    "import pandas as pd"
   ]
  },
  {
   "cell_type": "code",
   "execution_count": 3,
   "metadata": {},
   "outputs": [],
   "source": [
    "# splits = {'train': 'musique_ans_v1.0_train.jsonl', 'validation': 'musique_ans_v1.0_dev.jsonl'}\n",
    "# train_df = pd.read_json(\"hf://datasets/dgslibisey/MuSiQue/\" + splits[\"train\"], lines=True)\n",
    "# val_df = pd.read_json(\"hf://datasets/dgslibisey/MuSiQue/\" + splits[\"validation\"], lines=True)"
   ]
  },
  {
   "cell_type": "code",
   "execution_count": 4,
   "metadata": {},
   "outputs": [],
   "source": [
    "# save the train and val df locally as json\n",
    "# train_df.to_json(\"train.json\", orient='records', lines=True)\n",
    "# val_df.to_json(\"val.json\", orient='records', lines=True)"
   ]
  },
  {
   "cell_type": "markdown",
   "metadata": {},
   "source": [
    "### Loading the dataset"
   ]
  },
  {
   "cell_type": "code",
   "execution_count": 5,
   "metadata": {},
   "outputs": [],
   "source": [
    "# load the train and val df from local json\n",
    "train_df = pd.read_json(\"train.json\", lines=True)\n",
    "val_df = pd.read_json(\"val.json\", lines=True)"
   ]
  },
  {
   "cell_type": "code",
   "execution_count": 6,
   "metadata": {},
   "outputs": [
    {
     "data": {
      "text/plain": [
       "(19938, 2417)"
      ]
     },
     "execution_count": 6,
     "metadata": {},
     "output_type": "execute_result"
    }
   ],
   "source": [
    "len(train_df), len(val_df)"
   ]
  },
  {
   "cell_type": "markdown",
   "metadata": {},
   "source": [
    "---\n",
    "### Visualising the dataset"
   ]
  },
  {
   "cell_type": "code",
   "execution_count": 7,
   "metadata": {},
   "outputs": [
    {
     "data": {
      "text/html": [
       "<div>\n",
       "<style scoped>\n",
       "    .dataframe tbody tr th:only-of-type {\n",
       "        vertical-align: middle;\n",
       "    }\n",
       "\n",
       "    .dataframe tbody tr th {\n",
       "        vertical-align: top;\n",
       "    }\n",
       "\n",
       "    .dataframe thead th {\n",
       "        text-align: right;\n",
       "    }\n",
       "</style>\n",
       "<table border=\"1\" class=\"dataframe\">\n",
       "  <thead>\n",
       "    <tr style=\"text-align: right;\">\n",
       "      <th></th>\n",
       "      <th>id</th>\n",
       "      <th>paragraphs</th>\n",
       "      <th>question</th>\n",
       "      <th>question_decomposition</th>\n",
       "      <th>answer</th>\n",
       "      <th>answer_aliases</th>\n",
       "      <th>answerable</th>\n",
       "    </tr>\n",
       "  </thead>\n",
       "  <tbody>\n",
       "    <tr>\n",
       "      <th>19933</th>\n",
       "      <td>4hop1__670964_344284_86983_516763</td>\n",
       "      <td>[{'idx': 0, 'title': 'Alaska Purchase', 'parag...</td>\n",
       "      <td>What was the military branch of the president,...</td>\n",
       "      <td>[{'id': 670964, 'question': 'Verde Vallis &gt;&gt; i...</td>\n",
       "      <td>Union Army</td>\n",
       "      <td>[]</td>\n",
       "      <td>True</td>\n",
       "    </tr>\n",
       "    <tr>\n",
       "      <th>19934</th>\n",
       "      <td>4hop1__803353_344284_86983_516763</td>\n",
       "      <td>[{'idx': 0, 'title': 'Stura Vallis', 'paragrap...</td>\n",
       "      <td>The Stura Vallis is the same type of geographi...</td>\n",
       "      <td>[{'id': 803353, 'question': 'Stura Vallis &gt;&gt; i...</td>\n",
       "      <td>Union Army</td>\n",
       "      <td>[]</td>\n",
       "      <td>True</td>\n",
       "    </tr>\n",
       "    <tr>\n",
       "      <th>19935</th>\n",
       "      <td>4hop1__228811_344284_86983_516763</td>\n",
       "      <td>[{'idx': 0, 'title': 'Valley of Ten Thousand S...</td>\n",
       "      <td>The Tyras Vallis is the same type of geographi...</td>\n",
       "      <td>[{'id': 228811, 'question': 'Tyras Vallis &gt;&gt; i...</td>\n",
       "      <td>Union Army</td>\n",
       "      <td>[]</td>\n",
       "      <td>True</td>\n",
       "    </tr>\n",
       "    <tr>\n",
       "      <th>19936</th>\n",
       "      <td>4hop1__495205_206801_524406_670567</td>\n",
       "      <td>[{'idx': 0, 'title': 'List of World Heritage S...</td>\n",
       "      <td>The author of the Eddie &amp; the Gang with No Nam...</td>\n",
       "      <td>[{'id': 495205, 'question': 'Eddie &amp; the Gang ...</td>\n",
       "      <td>UNESCO World Heritage Site</td>\n",
       "      <td>[World Heritage Site, World heritage site, Wor...</td>\n",
       "      <td>True</td>\n",
       "    </tr>\n",
       "    <tr>\n",
       "      <th>19937</th>\n",
       "      <td>4hop1__853032_206801_524406_670567</td>\n",
       "      <td>[{'idx': 0, 'title': 'Cycle of Violence', 'par...</td>\n",
       "      <td>There are 32 of what kind of international her...</td>\n",
       "      <td>[{'id': 853032, 'question': 'Cycle of Violence...</td>\n",
       "      <td>UNESCO World Heritage Site</td>\n",
       "      <td>[World Heritage Site, World heritage site, Wor...</td>\n",
       "      <td>True</td>\n",
       "    </tr>\n",
       "  </tbody>\n",
       "</table>\n",
       "</div>"
      ],
      "text/plain": [
       "                                       id  \\\n",
       "19933   4hop1__670964_344284_86983_516763   \n",
       "19934   4hop1__803353_344284_86983_516763   \n",
       "19935   4hop1__228811_344284_86983_516763   \n",
       "19936  4hop1__495205_206801_524406_670567   \n",
       "19937  4hop1__853032_206801_524406_670567   \n",
       "\n",
       "                                              paragraphs  \\\n",
       "19933  [{'idx': 0, 'title': 'Alaska Purchase', 'parag...   \n",
       "19934  [{'idx': 0, 'title': 'Stura Vallis', 'paragrap...   \n",
       "19935  [{'idx': 0, 'title': 'Valley of Ten Thousand S...   \n",
       "19936  [{'idx': 0, 'title': 'List of World Heritage S...   \n",
       "19937  [{'idx': 0, 'title': 'Cycle of Violence', 'par...   \n",
       "\n",
       "                                                question  \\\n",
       "19933  What was the military branch of the president,...   \n",
       "19934  The Stura Vallis is the same type of geographi...   \n",
       "19935  The Tyras Vallis is the same type of geographi...   \n",
       "19936  The author of the Eddie & the Gang with No Nam...   \n",
       "19937  There are 32 of what kind of international her...   \n",
       "\n",
       "                                  question_decomposition  \\\n",
       "19933  [{'id': 670964, 'question': 'Verde Vallis >> i...   \n",
       "19934  [{'id': 803353, 'question': 'Stura Vallis >> i...   \n",
       "19935  [{'id': 228811, 'question': 'Tyras Vallis >> i...   \n",
       "19936  [{'id': 495205, 'question': 'Eddie & the Gang ...   \n",
       "19937  [{'id': 853032, 'question': 'Cycle of Violence...   \n",
       "\n",
       "                           answer  \\\n",
       "19933                  Union Army   \n",
       "19934                  Union Army   \n",
       "19935                  Union Army   \n",
       "19936  UNESCO World Heritage Site   \n",
       "19937  UNESCO World Heritage Site   \n",
       "\n",
       "                                          answer_aliases  answerable  \n",
       "19933                                                 []        True  \n",
       "19934                                                 []        True  \n",
       "19935                                                 []        True  \n",
       "19936  [World Heritage Site, World heritage site, Wor...        True  \n",
       "19937  [World Heritage Site, World heritage site, Wor...        True  "
      ]
     },
     "execution_count": 7,
     "metadata": {},
     "output_type": "execute_result"
    }
   ],
   "source": [
    "train_df.tail()"
   ]
  },
  {
   "cell_type": "code",
   "execution_count": 8,
   "metadata": {},
   "outputs": [
    {
     "data": {
      "text/plain": [
       "[{'idx': 0,\n",
       "  'title': 'Pakistan Super League',\n",
       "  'paragraph_text': 'Pakistan Super League (Urdu: پاکستان سپر لیگ \\u202c \\u200e; PSL) is a Twenty20 cricket league, founded in Lahore on 9 September 2015 with five teams and now comprises six teams. Instead of operating as an association of independently owned teams, the league is a single entity in which each franchise is owned and controlled by investors.',\n",
       "  'is_supporting': False},\n",
       " {'idx': 1,\n",
       "  'title': 'Serena Wilson',\n",
       "  'paragraph_text': 'Serena Wilson (August 8, 1933 – June 17, 2007), often known just as \"Serena\", was a well-known dancer, choreographer, and teacher who helped popularize belly dance in the United States. Serena\\'s work also helped legitimize the dance form and helped it to be perceived as more than burlesque or stripping. Serena danced in clubs in her younger years, opened her own studio, hosted her own television show, founded her own dance troupe, and was the author of several books about belly dance.',\n",
       "  'is_supporting': False}]"
      ]
     },
     "execution_count": 8,
     "metadata": {},
     "output_type": "execute_result"
    }
   ],
   "source": [
    "train_df['paragraphs'][0][0:2]"
   ]
  },
  {
   "cell_type": "code",
   "execution_count": 9,
   "metadata": {},
   "outputs": [
    {
     "data": {
      "text/plain": [
       "'When was the institute that owned The Collegian founded?'"
      ]
     },
     "execution_count": 9,
     "metadata": {},
     "output_type": "execute_result"
    }
   ],
   "source": [
    "train_df['question'][0]"
   ]
  },
  {
   "cell_type": "code",
   "execution_count": 10,
   "metadata": {},
   "outputs": [
    {
     "data": {
      "text/plain": [
       "[{'id': 482757,\n",
       "  'question': 'The Collegian >> owned by',\n",
       "  'answer': 'Houston Baptist University',\n",
       "  'paragraph_support_idx': 5},\n",
       " {'id': 12019,\n",
       "  'question': 'When was #1 founded?',\n",
       "  'answer': '1960',\n",
       "  'paragraph_support_idx': 9}]"
      ]
     },
     "execution_count": 10,
     "metadata": {},
     "output_type": "execute_result"
    }
   ],
   "source": [
    "train_df['question_decomposition'][0]"
   ]
  },
  {
   "cell_type": "markdown",
   "metadata": {},
   "source": [
    "---\n",
    "### Number of <i>answerable</i> rows"
   ]
  },
  {
   "cell_type": "code",
   "execution_count": 11,
   "metadata": {},
   "outputs": [
    {
     "name": "stdout",
     "output_type": "stream",
     "text": [
      "Number of answerable rows: 19938\n",
      "Total number of rows: 19938\n"
     ]
    }
   ],
   "source": [
    "# find the number of rows where the column `answerable` is True\n",
    "num_answerable = train_df['answerable'].sum()\n",
    "\n",
    "# total number of rows\n",
    "total_rows = train_df.shape[0]\n",
    "\n",
    "print(f\"Number of answerable rows: {num_answerable}\")\n",
    "print(f\"Total number of rows: {total_rows}\")\n"
   ]
  },
  {
   "cell_type": "markdown",
   "metadata": {},
   "source": [
    "---\n",
    "### Average length of the all the paragraphs per datapoint\n"
   ]
  },
  {
   "cell_type": "code",
   "execution_count": 12,
   "metadata": {},
   "outputs": [
    {
     "name": "stdout",
     "output_type": "stream",
     "text": [
      "Average length of each paragraph per datapoint: 9608.253535961481\n",
      "Average number of paragraphs per datapoint: 19.99819440264821\n"
     ]
    },
    {
     "data": {
      "text/plain": [
       "18568"
      ]
     },
     "execution_count": 12,
     "metadata": {},
     "output_type": "execute_result"
    }
   ],
   "source": [
    "overall_avg_len = 0\n",
    "max_len = 0\n",
    "overall_avg_num_paras = 0\n",
    "for i in range(total_rows):\n",
    "    paragraph_texts = [text['paragraph_text'] for text in train_df['paragraphs'][i]]\n",
    "    num_paras = len(paragraph_texts)\n",
    "    avg_len = sum([len(paragraph) for paragraph in paragraph_texts]) \n",
    "    max_len = max(max_len, sum([len(paragraph) for paragraph in paragraph_texts]))     \n",
    "    overall_avg_len += avg_len\n",
    "    overall_avg_num_paras += num_paras\n",
    "    \n",
    "overall_avg_len = overall_avg_len / total_rows\n",
    "overall_avg_num_paras = overall_avg_num_paras / total_rows\n",
    "\n",
    "\n",
    "print(f\"Average length of each paragraph per datapoint: {overall_avg_len}\")\n",
    "print(f\"Average number of paragraphs per datapoint: {overall_avg_num_paras}\")\n",
    "\n",
    "max_len"
   ]
  },
  {
   "cell_type": "markdown",
   "metadata": {},
   "source": [
    "---\n",
    "### Average number of decompositions per question"
   ]
  },
  {
   "cell_type": "code",
   "execution_count": 13,
   "metadata": {},
   "outputs": [
    {
     "name": "stdout",
     "output_type": "stream",
     "text": [
      "Average number of decompositions per question: 2.6495655771617708\n"
     ]
    }
   ],
   "source": [
    "avg_num_decomps = val_df['question_decomposition'].apply(len).mean()\n",
    "print(f\"Average number of decompositions per question: {avg_num_decomps}\")"
   ]
  },
  {
   "cell_type": "code",
   "execution_count": 14,
   "metadata": {},
   "outputs": [
    {
     "name": "stdout",
     "output_type": "stream",
     "text": [
      "Average length of decompositions per datapoint: 38.173805463603884\n"
     ]
    }
   ],
   "source": [
    "### Average length of the decompositions\n",
    "\n",
    "overall_avg_len_decomp = 0\n",
    "for i in range(total_rows):\n",
    "    avg_len = sum([len(decomp['question']) for decomp in train_df['question_decomposition'][i]]) / len(train_df['question_decomposition'][i])\n",
    "    overall_avg_len_decomp += avg_len\n",
    "    \n",
    "overall_avg_len_decomp = overall_avg_len_decomp / total_rows\n",
    "\n",
    "print(f\"Average length of decompositions per datapoint: {overall_avg_len_decomp}\")"
   ]
  },
  {
   "cell_type": "code",
   "execution_count": null,
   "metadata": {},
   "outputs": [],
   "source": []
  }
 ],
 "metadata": {
  "kernelspec": {
   "display_name": "autoad2_(venv)",
   "language": "python",
   "name": "autoad2"
  },
  "language_info": {
   "codemirror_mode": {
    "name": "ipython",
    "version": 3
   },
   "file_extension": ".py",
   "mimetype": "text/x-python",
   "name": "python",
   "nbconvert_exporter": "python",
   "pygments_lexer": "ipython3",
   "version": "3.10.12"
  }
 },
 "nbformat": 4,
 "nbformat_minor": 2
}
